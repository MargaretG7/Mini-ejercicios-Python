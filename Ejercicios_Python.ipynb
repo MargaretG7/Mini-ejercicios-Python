{
  "nbformat": 4,
  "nbformat_minor": 0,
  "metadata": {
    "colab": {
      "provenance": [],
      "authorship_tag": "ABX9TyP6M3TDmXCu2Z6Dplve8z4G",
      "include_colab_link": true
    },
    "kernelspec": {
      "name": "python3",
      "display_name": "Python 3"
    },
    "language_info": {
      "name": "python"
    }
  },
  "cells": [
    {
      "cell_type": "markdown",
      "metadata": {
        "id": "view-in-github",
        "colab_type": "text"
      },
      "source": [
        "<a href=\"https://colab.research.google.com/github/MargaretG7/Mini-ejercicios-Python/blob/main/Ejercicios_Python.ipynb\" target=\"_parent\"><img src=\"https://colab.research.google.com/assets/colab-badge.svg\" alt=\"Open In Colab\"/></a>"
      ]
    },
    {
      "cell_type": "markdown",
      "source": [
        "###Ejercicio de Range\n",
        "####Explicación:\n",
        "En Python, la función range() genera una \n",
        "secuencia de números dentro de un rango \n",
        "especificado, y toma hasta tres argumentos:\n",
        "el valor inicial, el valor final y el \n",
        "incremento.\n",
        "\n",
        "En este caso:\n",
        "\n",
        "*  22 es el valor inicial\n",
        "*  23 es el valor final\n",
        "*  24 es el incremento\n",
        "\n"
      ],
      "metadata": {
        "id": "DhDpZWNuqcMe"
      }
    },
    {
      "cell_type": "code",
      "execution_count": null,
      "metadata": {
        "colab": {
          "base_uri": "https://localhost:8080/"
        },
        "id": "cUlSxmm4qY36",
        "outputId": "3ebcb6c4-9836-40ee-e4d9-8da657178b94"
      },
      "outputs": [
        {
          "output_type": "stream",
          "name": "stdout",
          "text": [
            "22\n"
          ]
        }
      ],
      "source": [
        "def fun():\n",
        "  for i in range(22, 23, 24):\n",
        "    print(i)\n",
        "\n",
        "fun()"
      ]
    },
    {
      "cell_type": "markdown",
      "source": [
        "###Ejercicio de Join\n",
        "####Explicación:\n",
        "La función join() en Python se utiliza para concatenar una lista de cadenas en una sola cadena, utilizando el separador especificado.\n",
        "\n",
        "En este caso, se ha utilizado ' '.join(L), lo que significa que se quiere concatenar los elementos de la lista L con la cadena vacía ' ' se utiliza como separador."
      ],
      "metadata": {
        "id": "b2wj7Tkjthpy"
      }
    },
    {
      "cell_type": "code",
      "source": [
        "L = ['a','b','c','d']\n",
        "result = ''.join(L)\n",
        "print('L =',L)\n",
        "print('Result = ',result)"
      ],
      "metadata": {
        "colab": {
          "base_uri": "https://localhost:8080/"
        },
        "id": "4C2DSsl8r0n8",
        "outputId": "5c9f1f64-cc5d-4846-88c4-5e9ef316e696"
      },
      "execution_count": null,
      "outputs": [
        {
          "output_type": "stream",
          "name": "stdout",
          "text": [
            "L = ['a', 'b', 'c', 'd']\n",
            "Result =  abcd\n"
          ]
        }
      ]
    },
    {
      "cell_type": "markdown",
      "source": [
        "###Ejercicio de Crear Lista\n",
        "####Explicación:\n",
        "Este código de Python tiene como objetivo crear una nueva lista llamada value que contiene los resultados de aplicar la operación x&1 a cada elemento x de la lista M.\n",
        "\n",
        "El operador & es el operador de \"y\" a nivel de bits en Python. Al aplicar x&1, se realiza una operación de \"y\" bit a bit entre x y 1. Esto básicamente implica comparar los bits de x y 1 en cada posición y generar un nuevo número que tenga un 1 en la posición correspondiente solo si ambos bits son 1. Si alguno de los bits es 0, el resultado será 0 en esa posición. En este caso, 1 representa el número binario 01, por lo que la operación x&1 extrae el bit menos significativo de x (el bit en la posición 0) y devuelve 1 si ese bit es 1, o 0 si ese bit es 0."
      ],
      "metadata": {
        "id": "cbfit-l9KCQW"
      }
    },
    {
      "cell_type": "code",
      "source": [
        "M = [1,2,3,4,5]\n",
        "value = [x&1 for x in M]\n",
        "print(value)"
      ],
      "metadata": {
        "colab": {
          "base_uri": "https://localhost:8080/"
        },
        "id": "L9r5NdDZJTrk",
        "outputId": "a4c7eec6-e3b4-4eaf-f054-54fc5986e440"
      },
      "execution_count": 10,
      "outputs": [
        {
          "output_type": "stream",
          "name": "stdout",
          "text": [
            "[1, 0, 1, 0, 1]\n"
          ]
        }
      ]
    }
  ]
}