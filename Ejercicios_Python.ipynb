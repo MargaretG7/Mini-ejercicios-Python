{
  "nbformat": 4,
  "nbformat_minor": 0,
  "metadata": {
    "colab": {
      "provenance": [],
      "authorship_tag": "ABX9TyPO8KBSQq0YU5SnljoALdvQ",
      "include_colab_link": true
    },
    "kernelspec": {
      "name": "python3",
      "display_name": "Python 3"
    },
    "language_info": {
      "name": "python"
    }
  },
  "cells": [
    {
      "cell_type": "markdown",
      "metadata": {
        "id": "view-in-github",
        "colab_type": "text"
      },
      "source": [
        "<a href=\"https://colab.research.google.com/github/MargaretG7/Mini-ejercicios-Python/blob/main/Ejercicios_Python.ipynb\" target=\"_parent\"><img src=\"https://colab.research.google.com/assets/colab-badge.svg\" alt=\"Open In Colab\"/></a>"
      ]
    },
    {
      "cell_type": "markdown",
      "source": [
        "###Ejercicio de Range\n",
        "####Explicación:\n",
        "En Python, la función range() genera una \n",
        "secuencia de números dentro de un rango \n",
        "especificado, y toma hasta tres argumentos:\n",
        "el valor inicial, el valor final y el \n",
        "incremento.\n",
        "\n",
        "En este caso:\n",
        "\n",
        "*  22 es el valor inicial\n",
        "*  23 es el valor final\n",
        "*  24 es el incremento\n",
        "\n"
      ],
      "metadata": {
        "id": "DhDpZWNuqcMe"
      }
    },
    {
      "cell_type": "code",
      "execution_count": null,
      "metadata": {
        "colab": {
          "base_uri": "https://localhost:8080/"
        },
        "id": "cUlSxmm4qY36",
        "outputId": "3ebcb6c4-9836-40ee-e4d9-8da657178b94"
      },
      "outputs": [
        {
          "output_type": "stream",
          "name": "stdout",
          "text": [
            "22\n"
          ]
        }
      ],
      "source": [
        "def fun():\n",
        "  for i in range(22, 23, 24):\n",
        "    print(i)\n",
        "\n",
        "fun()"
      ]
    },
    {
      "cell_type": "markdown",
      "source": [
        "###Ejercicio de Join\n",
        "####Explicación:\n",
        "La función join() en Python se utiliza para concatenar una lista de cadenas en una sola cadena, utilizando el separador especificado.\n",
        "\n",
        "En este caso, se ha utilizado ' '.join(L), lo que significa que se quiere concatenar los elementos de la lista L con la cadena vacía ' ' se utiliza como separador."
      ],
      "metadata": {
        "id": "b2wj7Tkjthpy"
      }
    },
    {
      "cell_type": "code",
      "source": [
        "L = ['a','b','c','d']\n",
        "result = ''.join(L)\n",
        "print('L =',L)\n",
        "print('Result = ',result)"
      ],
      "metadata": {
        "colab": {
          "base_uri": "https://localhost:8080/"
        },
        "id": "4C2DSsl8r0n8",
        "outputId": "5c9f1f64-cc5d-4846-88c4-5e9ef316e696"
      },
      "execution_count": null,
      "outputs": [
        {
          "output_type": "stream",
          "name": "stdout",
          "text": [
            "L = ['a', 'b', 'c', 'd']\n",
            "Result =  abcd\n"
          ]
        }
      ]
    }
  ]
}