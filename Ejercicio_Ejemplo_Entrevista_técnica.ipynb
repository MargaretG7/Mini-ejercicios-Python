{
  "nbformat": 4,
  "nbformat_minor": 0,
  "metadata": {
    "colab": {
      "provenance": [],
      "authorship_tag": "ABX9TyP9A5SzWrfqL/7dNJATs84S",
      "include_colab_link": true
    },
    "kernelspec": {
      "name": "python3",
      "display_name": "Python 3"
    },
    "language_info": {
      "name": "python"
    }
  },
  "cells": [
    {
      "cell_type": "markdown",
      "metadata": {
        "id": "view-in-github",
        "colab_type": "text"
      },
      "source": [
        "<a href=\"https://colab.research.google.com/github/MargaretG7/Mini-ejercicios-Python/blob/main/Ejercicio_Ejemplo_Entrevista_t%C3%A9cnica.ipynb\" target=\"_parent\"><img src=\"https://colab.research.google.com/assets/colab-badge.svg\" alt=\"Open In Colab\"/></a>"
      ]
    },
    {
      "cell_type": "markdown",
      "source": [
        "You are given two strings s1 and s2. Tell whether s2 is an anagram of s1. An anagram is a word or phrase formed by rearranging the letters of a different word or phrase, typically using all the original letters exactly once.\n",
        "\n",
        "Example:\n",
        "S1: “abc”, S2: “bac” -> Output = True\n",
        "S1: “abcd”, S2: “bac” -> Output = False\n"
      ],
      "metadata": {
        "id": "w5hXNkZJel2Y"
      }
    },
    {
      "cell_type": "code",
      "execution_count": 3,
      "metadata": {
        "colab": {
          "base_uri": "https://localhost:8080/"
        },
        "id": "R7sN-8PXT_CO",
        "outputId": "01ff5152-6ce3-485c-9be7-1c919fc8f00a"
      },
      "outputs": [
        {
          "output_type": "stream",
          "name": "stdout",
          "text": [
            "False\n"
          ]
        }
      ],
      "source": [
        "def anagrama(str1, str2):\n",
        "  listaStr1 = list(str1)\n",
        "  listaStr2 = list(str2)\n",
        "\n",
        "  listaStr1.sort()\n",
        "  listaStr2.sort()\n",
        "\n",
        "  val = True if listaStr1 == listaStr2 else False\n",
        "  print(val)  ##Hasta aquí acaba el problema no. 1\n",
        "\n",
        "  c=0\n",
        "  for i in range(len(listaStr1)):\n",
        "      if listaStr1[i] == listaStr2[i]:\n",
        "        c = c + 1\n",
        "        i = i + 1\n",
        "      else:\n",
        "        print(\"false\")\n",
        "\n",
        "  if c == len(listaStr1):\n",
        "    c = c ##Esto es solo pq si\n",
        "\n",
        "anagrama(\"ac\", \"bca\")"
      ]
    }
  ]
}